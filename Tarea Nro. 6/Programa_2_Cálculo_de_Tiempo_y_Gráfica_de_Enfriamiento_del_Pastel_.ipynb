{
  "nbformat": 4,
  "nbformat_minor": 0,
  "metadata": {
    "colab": {
      "provenance": [],
      "authorship_tag": "ABX9TyOBinS7anTNF4jlRrS9lvEV",
      "include_colab_link": true
    },
    "kernelspec": {
      "name": "python3",
      "display_name": "Python 3"
    },
    "language_info": {
      "name": "python"
    }
  },
  "cells": [
    {
      "cell_type": "markdown",
      "metadata": {
        "id": "view-in-github",
        "colab_type": "text"
      },
      "source": [
        "<a href=\"https://colab.research.google.com/github/elibergman/QM2515-Tarea-Nro-6/blob/main/Tarea%20Nro.%206/Programa_2_C%C3%A1lculo_de_Tiempo_y_Gr%C3%A1fica_de_Enfriamiento_del_Pastel_.ipynb\" target=\"_parent\"><img src=\"https://colab.research.google.com/assets/colab-badge.svg\" alt=\"Open In Colab\"/></a>"
      ]
    },
    {
      "cell_type": "code",
      "source": [
        "import numpy as np\n",
        "import matplotlib.pyplot as plt\n",
        "import math\n",
        "\n",
        "# Definición de temperaturas iniciales y ambiente\n",
        "T_inicial = 300  # Temperatura inicial del pastel en °F\n",
        "T_3_min = 200    # Temperatura después de 3 minutos en °F\n",
        "T_ambiente = 70  # Temperatura ambiente en °F\n",
        "\n",
        "# Calculando la constante de proporcionalidad k\n",
        "k = (math.log(abs(T_3_min - T_ambiente)) - math.log(abs(T_inicial - T_ambiente))) / 180  # 180 segundos = 3 minutos\n",
        "\n",
        "# Función para calcular el tiempo hasta una temperatura objetivo\n",
        "def calcular_tiempo(T_objetivo):\n",
        "    return (math.log(abs(T_objetivo - T_ambiente)) - math.log(abs(T_inicial - T_ambiente))) / k / 60  # Tiempo en minutos\n",
        "\n",
        "# Tiempos aprox para alcanzar 70.5°F y 69.5°F\n",
        "tiempo_70_5 = calcular_tiempo(70.5)\n",
        "tiempo_69_5 = calcular_tiempo(69.5)\n",
        "\n",
        "# Rango de tiempos para la gráfica, hasta 80 minutos\n",
        "tiempos_minutos = np.linspace(0, 80, 400)  # Tiempos en minutos\n",
        "\n",
        "# Calculando temperaturas para cada tiempo\n",
        "temperaturas = T_ambiente + (T_inicial - T_ambiente) * np.exp(k * tiempos_minutos * 60)  # Conversion de minutos a segundos\n",
        "\n",
        "# Creando la grafica\n",
        "plt.figure(figsize=(9, 5))\n",
        "plt.plot(tiempos_minutos, temperaturas, label='Temperatura del pastel')\n",
        "plt.scatter([0, 3], [T_inicial, T_3_min], color='red', label='Puntos iniciales dados')\n",
        "plt.axvline(x=32.24, color='green', linestyle='--', label='Tiempo aprox. 32.24 min')\n",
        "plt.axhline(y=70, color='orange', linestyle='--', label='70°F (Temperatura ambiente)')\n",
        "plt.title('Enfriamiento del Pastel en Función del Tiempo')\n",
        "plt.xlabel('Tiempo (minutos)')\n",
        "plt.ylabel('Temperatura (°F)')\n",
        "plt.legend()\n",
        "plt.grid(True)\n",
        "plt.text(35, 150, \"el Tiempo de 32.24 min es una aproximación\\npara temperaturas que tienden a 70°F.\", fontsize=9, bbox=dict(facecolor='yellow', alpha=0.5))\n",
        "plt.show()\n",
        "\n",
        "# Resultado\n",
        "Resultado = (\"Este modelo asume que la temperatura del pastel se acerca asintóticamente a la temperatura ambiente.\\nSin embargo, en la práctica, una vez que el pastel alcanza la temperatura ambiente, \\nse mantiene en esa temperatura, \"\n",
        "                      \"estableciendo un equilibrio térmico con el entorno.\")\n",
        "print(Resultado)\n"
      ],
      "metadata": {
        "id": "wR4zE64q0H6I"
      },
      "execution_count": null,
      "outputs": []
    }
  ]
}
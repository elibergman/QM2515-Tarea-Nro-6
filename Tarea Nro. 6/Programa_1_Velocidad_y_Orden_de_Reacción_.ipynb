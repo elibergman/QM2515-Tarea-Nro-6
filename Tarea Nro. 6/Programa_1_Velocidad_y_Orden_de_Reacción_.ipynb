{
  "nbformat": 4,
  "nbformat_minor": 0,
  "metadata": {
    "colab": {
      "provenance": [],
      "authorship_tag": "ABX9TyP+McRIaUm0oFdp7t+KQNlK",
      "include_colab_link": true
    },
    "kernelspec": {
      "name": "python3",
      "display_name": "Python 3"
    },
    "language_info": {
      "name": "python"
    }
  },
  "cells": [
    {
      "cell_type": "markdown",
      "metadata": {
        "id": "view-in-github",
        "colab_type": "text"
      },
      "source": [
        "<a href=\"https://colab.research.google.com/github/elibergman/QM2515-Tarea-Nro-6/blob/main/Tarea%20Nro.%206/Programa_1_Velocidad_y_Orden_de_Reacci%C3%B3n_.ipynb\" target=\"_parent\"><img src=\"https://colab.research.google.com/assets/colab-badge.svg\" alt=\"Open In Colab\"/></a>"
      ]
    },
    {
      "cell_type": "code",
      "execution_count": null,
      "metadata": {
        "id": "XRM74xXXCw0-"
      },
      "outputs": [],
      "source": [
        "import numpy as np\n",
        "import matplotlib.pyplot as plt\n",
        "from scipy.stats import linregress\n",
        "\n",
        "# Datos proporcionados\n",
        "tiempo_s = np.array([0, 100, 200, 300, 400, 600, 1000])  # Tiempo en segundos\n",
        "concentracion_rel = np.array([1, 0.829, 0.688, 0.597, 0.511, 0.385, 0.248])  # [A]/[A]0\n",
        "A0 = 0.600  # Concentración inicial [A]0 en mol/dm³\n",
        "\n",
        "# Calculamos [A] y luego 1/[A]\n",
        "concentracion_A = concentracion_rel * A0\n",
        "inverso_concentracion_A = 1 / concentracion_A\n",
        "\n",
        "# Regresión lineal entre el tiempo y 1/[A]\n",
        "slope, intercept, r_value, p_value, std_err = linregress(tiempo_s, inverso_concentracion_A)\n",
        "\n",
        "# Línea de mejor ajuste\n",
        "linea_ajuste = slope * tiempo_s + intercept\n",
        "\n",
        "# Gráfica\n",
        "plt.figure(figsize=(10, 6))\n",
        "plt.scatter(tiempo_s, inverso_concentracion_A, color='pink', label='Datos experimentales', s=50)\n",
        "plt.plot(tiempo_s, linea_ajuste, color='fuchsia', label=f'Ajuste lineal: $1/[A] = {slope:.4e}t + {intercept:.4f}$\\n$R^2 = {r_value**2:.4f}$', linewidth=2, linestyle='dotted')\n",
        "plt.title('Ajuste de segundo orden', fontsize=14)\n",
        "plt.xlabel('Tiempo (s)', fontsize=12)\n",
        "plt.ylabel('1/[A] (dm³/mol)', fontsize=12)\n",
        "plt.legend()\n",
        "plt.grid(True)\n",
        "plt.show()\n",
        "\n",
        "# Resultado\n",
        "resultado = \"El mejor ajuste para los datos proporcionados se encuentra con la reacción de segundo orden.\\nLa constante de velocidad para esta reacción de segundo orden es k = 0.00508 dm³/mol⋅s.\"\n",
        "print(resultado)  # Imprimimos el resultado\n"
      ]
    }
  ]
}